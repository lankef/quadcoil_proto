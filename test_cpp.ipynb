{
 "cells": [
  {
   "cell_type": "code",
   "execution_count": 1,
   "id": "d189aff3-204a-4576-8d5b-ea2b7b50198e",
   "metadata": {},
   "outputs": [],
   "source": [
    "import numpy as np\n",
    "import sys\n",
    "sys.path.insert(1,'./build')\n",
    "import biest_call\n",
    "import time"
   ]
  },
  {
   "cell_type": "code",
   "execution_count": 2,
   "id": "17014d9a-6f56-401b-9036-213b63608602",
   "metadata": {},
   "outputs": [],
   "source": [
    "a = 0.66 # np.random.random() * 0.2 + 0.8\n",
    "b_single = [0.66, 0.77, 0.88] # np.random.random() * 0.2 + 0.8\n",
    "b_double = [0.66, 0.77] # np.random.random() * 0.2 + 0.8"
   ]
  },
  {
   "cell_type": "code",
   "execution_count": 3,
   "id": "281c9769-616d-40b1-8316-a7ad82870ce9",
   "metadata": {},
   "outputs": [
    {
     "name": "stderr",
     "output_type": "stream",
     "text": [
      "IOStream.flush timed out\n"
     ]
    },
    {
     "name": "stdout",
     "output_type": "stream",
     "text": [
      "The BIEST single-layer example evaluates to [0.36017343489628273, 0.3601734348962832, 0.3601734348962813]\n",
      "The BIEST double-layer example evaluates to [0.48895257587060564, 0.48895257587060736]\n",
      "CPU times: user 2h 23min 48s, sys: 17.1 s, total: 2h 24min 6s\n",
      "Wall time: 20min 26s\n"
     ]
    },
    {
     "name": "stderr",
     "output_type": "stream",
     "text": [
      "IOStream.flush timed out\n"
     ]
    }
   ],
   "source": [
    "%%time\n",
    "test_example_single = []\n",
    "for i in range(len(b_single)):\n",
    "    test_example_single.append(biest_call.test(True, a, b_single[i]))\n",
    "test_example_double = []\n",
    "for i in range(len(b_double)):\n",
    "    test_example_double.append(biest_call.test(False, a, b_double[i]))\n",
    "print('The BIEST single-layer example evaluates to', test_example_single)\n",
    "print('The BIEST double-layer example evaluates to', test_example_double)"
   ]
  },
  {
   "cell_type": "code",
   "execution_count": 8,
   "id": "d69e8cf1-6803-4141-bffa-975b6df17508",
   "metadata": {},
   "outputs": [],
   "source": [
    "# Testing if BIEST is called correctly\n",
    "nfp = 1\n",
    "Nt = 70\n",
    "Np = 20\n",
    "DIM = 3\n",
    "gamma = np.zeros((Nt, Np, DIM))\n",
    "func_in_single = np.zeros((Nt, Np, len(b_single)))\n",
    "func_in_double = np.zeros((Nt, Np, len(b_double)))\n",
    "for k in range(len(b_single)):\n",
    "    for i in np.arange(Nt):\n",
    "        for j in np.arange(Np):\n",
    "            b = b_single[k]\n",
    "            phi = 2 * np.pi * i / Nt;\n",
    "            theta = 2 * np.pi * j / Np;\n",
    "            R = 1 + 0.25 * np.cos(theta);\n",
    "            x = R * np.cos(phi);\n",
    "            y = R * a * np.sin(phi);\n",
    "            z = 0.25 * np.sin(theta);\n",
    "            gamma[i, j, 0] = x;\n",
    "            gamma[i, j, 1] = y;\n",
    "            gamma[i, j, 2] = z;\n",
    "            func_in_single[i, j, k] = x + y + b * z;\n",
    "            \n",
    "for k in range(len(b_double)):\n",
    "    for i in np.arange(Nt):\n",
    "        for j in np.arange(Np):\n",
    "            b = b_double[k]\n",
    "            phi = 2 * np.pi * i / Nt;\n",
    "            theta = 2 * np.pi * j / Np;\n",
    "            R = 1 + 0.25 * np.cos(theta);\n",
    "            x = R * np.cos(phi);\n",
    "            y = R * a * np.sin(phi);\n",
    "            z = 0.25 * np.sin(theta);\n",
    "            gamma[i, j, 0] = x;\n",
    "            gamma[i, j, 1] = y;\n",
    "            gamma[i, j, 2] = z;\n",
    "            func_in_double[i, j, k] = x + y + b * z;"
   ]
  },
  {
   "cell_type": "code",
   "execution_count": 9,
   "id": "4b2213dd-767c-4fe3-977a-457f17713f9a",
   "metadata": {},
   "outputs": [
    {
     "data": {
      "text/plain": [
       "array([0.85462394, 0.85462394])"
      ]
     },
     "execution_count": 9,
     "metadata": {},
     "output_type": "execute_result"
    }
   ],
   "source": [
    "func_in_double[10, 10]"
   ]
  },
  {
   "cell_type": "code",
   "execution_count": null,
   "id": "0b00211e-c071-4db2-a6c9-f7cda61e80f3",
   "metadata": {},
   "outputs": [],
   "source": [
    "time1 = time.time()\n",
    "test_both = np.zeros((len(b_single) + len(b_double)), dtype=np.float64)\n",
    "biest_call.integrate_multi(\n",
    "    gamma, # xt::pyarray<double> &gamma,\n",
    "    func_in_single, # xt::pyarray<double> &func_in_single,\n",
    "    func_in_double, # xt::pyarray<double> &func_in_double,\n",
    "    test_both, # xt::pyarray<double> &result,\n",
    "    10, # int digits,\n",
    "    1, # int nfp\n",
    ")\n",
    "time2 = time.time()\n",
    "print('Both eval time:', time2 - time1)\n",
    "print('Both result:', test_both)\n",
    "\n",
    "time1 = time.time()\n",
    "test_neither = np.zeros((0), dtype=np.float64)\n",
    "biest_call.integrate_multi(\n",
    "    gamma, # xt::pyarray<double> &gamma,\n",
    "    None, # xt::pyarray<double> &func_in_single,\n",
    "    None, # xt::pyarray<double> &func_in_double,\n",
    "    test_neither, # xt::pyarray<double> &result,\n",
    "    10, # int digits,\n",
    "    1, # int nfp\n",
    ")\n",
    "time2 = time.time()\n",
    "print('Neither eval time:', time2 - time1)\n",
    "print('Neither result:', test_neither)"
   ]
  },
  {
   "cell_type": "code",
   "execution_count": null,
   "id": "ab9352b4-9738-4b2b-bb20-7786961b0ef9",
   "metadata": {},
   "outputs": [],
   "source": [
    "# Testing the behavior of integrate_multi, and the option to \n",
    "# skip either arguments to save time\n",
    "time1 = time.time()\n",
    "test_single_only = np.zeros((1))\n",
    "biest_call.integrate_multi(\n",
    "    gamma, # xt::pyarray<double> &gamma,\n",
    "    func_in_single, # xt::pyarray<double> &func_in_single,\n",
    "    None, # xt::pyarray<double> &func_ia_singlele,\n",
    "    test_single_only, # xt::pyarray<double> &result,\n",
    "    10, # int digits,\n",
    "    1, # int nfp\n",
    ")\n",
    "time2 = time.time()\n",
    "print('Single-layer only eval time:', time2 - time1)\n",
    "print('Single-layer only result:', test_single_only)\n",
    "\n",
    "time1 = time.time()\n",
    "test_double_only = np.zeros((1))\n",
    "biest_call.integrate_multi(\n",
    "    gamma, # xt::pyarray<double> &gamma,\n",
    "    None, # xt::pyarray<double> &func_in_single,\n",
    "    func_in_double, # xt::pyarray<double> &func_in_double,\n",
    "    test_double_only, # xt::pyarray<double> &result,\n",
    "    10, # int digits,\n",
    "    1, # int nfp\n",
    ")\n",
    "time2 = time.time()\n",
    "print('Double-layer only eval time:', time2 - time1)\n",
    "print('Double-layer only result:', test_double_only)\n"
   ]
  },
  {
   "cell_type": "code",
   "execution_count": 5,
   "id": "cf468c91-67d6-4e7b-a577-7820ae4ee2ab",
   "metadata": {},
   "outputs": [
    {
     "data": {
      "text/plain": [
       "array([0.36017343, 0.48895258])"
      ]
     },
     "execution_count": 5,
     "metadata": {},
     "output_type": "execute_result"
    }
   ],
   "source": [
    "test_both"
   ]
  },
  {
   "cell_type": "code",
   "execution_count": null,
   "id": "75a3e494-cd14-47a3-919e-6c0efee1fa37",
   "metadata": {},
   "outputs": [],
   "source": []
  }
 ],
 "metadata": {
  "kernelspec": {
   "display_name": "thesis",
   "language": "python",
   "name": "thesis"
  },
  "language_info": {
   "codemirror_mode": {
    "name": "ipython",
    "version": 3
   },
   "file_extension": ".py",
   "mimetype": "text/x-python",
   "name": "python",
   "nbconvert_exporter": "python",
   "pygments_lexer": "ipython3",
   "version": "3.9.18"
  }
 },
 "nbformat": 4,
 "nbformat_minor": 5
}
