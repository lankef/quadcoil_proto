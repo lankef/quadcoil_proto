{
 "cells": [
  {
   "cell_type": "markdown",
   "id": "563e602c",
   "metadata": {},
   "source": [
    "# Single-stage optimization prototype\n",
    "This is the prototype for single-stage optimization using QUADCOIL.\n",
    "Note that the winding surface's poloidal parameterization is not yet \n",
    "robust. "
   ]
  },
  {
   "cell_type": "code",
   "execution_count": 1,
   "id": "edc4f9bf",
   "metadata": {},
   "outputs": [],
   "source": [
    "import jax\n",
    "jax.devices()\n",
    "import jax.numpy as jnp"
   ]
  },
  {
   "cell_type": "code",
   "execution_count": 2,
   "id": "bc63d66a",
   "metadata": {},
   "outputs": [],
   "source": [
    "# This script generates the plasma surface, winding surface and initial filaments for the \n",
    "# force minimization study. Uses the regcoil branch and quadcoil_proto.\n",
    "\n",
    "import os\n",
    "# os.environ['XLA_FLAGS'] = '--xla_dump_to=./jax_dump'\n",
    "# os.environ['JAX_PLATFORMS'] = 'cpu'\n",
    "import sys\n",
    "import matplotlib.pyplot as plt\n",
    "from simsopt.geo import SurfaceRZFourier, plot\n",
    "from simsopt.field import CurrentPotentialSolve, CurrentPotentialFourier\n",
    "from simsopt import save, load\n",
    "from functools import partial\n",
    "from jax import jit, vmap, jacfwd\n",
    "from jax.lax import while_loop\n",
    "import optax\n",
    "import optax.tree_utils as otu\n",
    "import time\n",
    "\n",
    "\n",
    "# Loading QUADCOIL\n",
    "quadcoil_path = '..'\n",
    "sys.path.insert(1, quadcoil_path)\n",
    "# The directory of the c++ code imported in self_force_operator\n",
    "# must be included separately\n",
    "sys.path.insert(1, quadcoil_path + '/build')\n",
    "sys.path.insert(1, quadcoil_path + '/objectives')\n",
    "\n",
    "from winding_surface_jax import (\n",
    "    gen_winding_surface_atan,\n",
    "    gen_winding_surface_atan_legacy,\n",
    "    dof_to_gamma, \n",
    "    winding_surface_field_Bn, \n",
    "    cp_make_mn, \n",
    "    winding_surface_field_Bn_GI\n",
    ")\n",
    "from jax_solver import solve_quad_unconstrained, eval_quad_scaled, solve_quad_constrained, run_opt\n",
    "from plotting_utils import plot_coil_Phi_IG\n",
    "from grid_curvature_operator_jax import grid_curvature_cylindrical\n",
    "from f_b_and_k_operators_jax import \\\n",
    "    f_B_and_current_scale, \\\n",
    "    K2, K_theta, K_helper\n",
    "from utils import avg_order_of_magnitude\n"
   ]
  },
  {
   "cell_type": "markdown",
   "id": "7d969fe3",
   "metadata": {},
   "source": [
    "# Loading plasma surface and setting up parameters (replace with your own equilibrium and parameters)"
   ]
  },
  {
   "cell_type": "code",
   "execution_count": 3,
   "id": "b6673308-2514-4d48-a9df-080d438ebe5f",
   "metadata": {},
   "outputs": [
    {
     "data": {
      "text/plain": [
       "''"
      ]
     },
     "execution_count": 3,
     "metadata": {},
     "output_type": "execute_result"
    }
   ],
   "source": [
    "''' --- Loading configs --- '''\n",
    "\n",
    "\n",
    "# Obtaining a list of all configs\n",
    "path_plasma_surface = 'plasma_surface/'\n",
    "list_plasma_surface = os.listdir(path_plasma_surface)\n",
    "path_vcasing = '2023-09-14.MagneticGradientScalength/vcasing/'\n",
    "list_vcasing= os.listdir(path_vcasing)\n",
    "path_bnorm = '2023-09-14.MagneticGradientScalength/bnorm/'\n",
    "list_bnorm = os.listdir(path_bnorm)\n",
    "''"
   ]
  },
  {
   "cell_type": "code",
   "execution_count": 4,
   "id": "ce104e17",
   "metadata": {},
   "outputs": [
    {
     "name": "stdout",
     "output_type": "stream",
     "text": [
      "Finding equilibrium containing: li383\n",
      "33\n",
      "Name: li383_1.4m_aScaling\n"
     ]
    }
   ],
   "source": [
    "# Finding a case with name containing the substring. \n",
    "# You can change current_name to something you like.\n",
    "substring='li383'\n",
    "print('Finding equilibrium containing:', substring)\n",
    "for i_config, item in enumerate(list_plasma_surface):\n",
    "    if substring in item:\n",
    "        break\n",
    "\n",
    "print(i_config)\n",
    "\n",
    "current_plasma_surface = list_plasma_surface[i_config]\n",
    "current_name = current_plasma_surface[:-4]\n",
    "print('Name:', current_name)\n",
    "\n"
   ]
  },
  {
   "cell_type": "code",
   "execution_count": 5,
   "id": "e631a58b",
   "metadata": {},
   "outputs": [],
   "source": [
    "''' --- Settings --- '''\n",
    "n_phi_plasma = 32\n",
    "n_theta_plasma = 32\n",
    "# n_phi is per field period\n",
    "n_phi_winding = 33\n",
    "n_theta_winding = 33\n",
    "# In this test file, winding and eval \n",
    "# grids must be the same because that's\n",
    "# how it is in the mosek version. Otherwise\n",
    "# the comparison will not be valid.\n",
    "n_phi_eval = n_phi_winding\n",
    "n_theta_eval = n_theta_winding\n",
    "\n",
    "# The first constraint is a peak current density constraint that mimics the \n",
    "# coil-coil distance constraint in filament optimization. \n",
    "# Here we prescribe some arbitrary coil number by multiplying this \n",
    "# number to the aspect ratio. The more coils there are, the more accurate the \n",
    "# proxy should be\n",
    "coil_per_aspect_ratio = 4.6503866245115155\n",
    "mpol_cp = 4\n",
    "ntor_cp = 4\n",
    "\n",
    "\n",
    "mpol_winding = 7 # 10\n",
    "ntor_winding = 7 # 10\n"
   ]
  },
  {
   "cell_type": "code",
   "execution_count": 35,
   "id": "33f200ac",
   "metadata": {},
   "outputs": [
    {
     "name": "stdout",
     "output_type": "stream",
     "text": [
      "bnorm.li383_1.4m_aScaling found. Loading virtual casing.\n"
     ]
    }
   ],
   "source": [
    "from numpy import loadtxt\n",
    "from jax import config\n",
    "config.update(\"jax_enable_x64\", False)\n",
    "''' --- Loading plasma surface --- '''\n",
    "\n",
    "# Loads the plasma surface into plasma_surface. Replace with your own surface.\n",
    "surf_dict = jnp.load(path_plasma_surface + current_plasma_surface, allow_pickle=True).item()\n",
    "plasma_dofs = surf_dict['dofs'].astype(jnp.float32)\n",
    "stellsym = surf_dict['stellsym']\n",
    "nfp = surf_dict['nfp']\n",
    "quadpoints_phi_plasma = jnp.linspace(0, 1/nfp, n_phi_plasma, endpoint=False)\n",
    "quadpoints_theta_plasma = jnp.linspace(0, 1, n_theta_plasma, endpoint=False)\n",
    "plasma_surface = SurfaceRZFourier(\n",
    "    nfp=nfp, \n",
    "    stellsym=stellsym, \n",
    "    mpol=surf_dict['mpol'], \n",
    "    ntor=surf_dict['ntor'], \n",
    "    quadpoints_phi=quadpoints_phi_plasma, \n",
    "    quadpoints_theta=quadpoints_theta_plasma, \n",
    ")\n",
    "plasma_surface.set_dofs(plasma_dofs)\n",
    "\n",
    "\n",
    "''' --- Setting current --- '''\n",
    "\n",
    "\n",
    "net_poloidal_current_amperes = surf_dict['net_poloidal_current'].astype(jnp.float32)\n",
    "net_toroidal_current_amperes = 0\n",
    "\n",
    "\n",
    "''' --- Loading B_plasma --- '''\n",
    "\n",
    "\n",
    "# Loads the normal magnetic field at the plasma surface\n",
    "current_vcasing = 'vcasing_' + current_name + '.nc'\n",
    "current_bnorm = 'bnorm.' + current_name\n",
    "if current_bnorm in list_bnorm:\n",
    "    print(current_bnorm, 'found. Loading virtual casing.')\n",
    "    bnorm_data = loadtxt(path_bnorm+current_bnorm).astype(jnp.float32)\n",
    "    bnorm_m = jnp.array(bnorm_data[:, 0], dtype=int)\n",
    "    bnorm_n = jnp.array(bnorm_data[:, 1], dtype=int)\n",
    "    bnorm_values = bnorm_data[:, 2]\n",
    "    eval_grid_phi, eval_grid_theta = jnp.meshgrid(\n",
    "        plasma_surface.quadpoints_phi.astype(jnp.float32), \n",
    "        plasma_surface.quadpoints_theta.astype(jnp.float32),\n",
    "        indexing='ij',\n",
    "    )\n",
    "    Bnormal_plasma = jnp.sum(bnorm_values[:, None, None] * jnp.sin(\n",
    "        bnorm_m[:, None, None] * eval_grid_phi[None, :, :] * jnp.pi * 2\n",
    "        + bnorm_n[:, None, None] * eval_grid_theta[None, :, :] * jnp.pi * 2\n",
    "    ), axis=0)\n",
    "else:\n",
    "    if current_vcasing in list_vcasing:\n",
    "        raise TypeError('Equilibrium has no B_norm, but is not a vacuum field! '\\\n",
    "            'This requires virtual_casing to run, which is not functioning '\\\n",
    "            'properly.')\n",
    "    Bnormal_plasma = jnp.zeros((\n",
    "        len(plasma_surface.quadpoints_phi),\n",
    "        len(plasma_surface.quadpoints_theta)\n",
    "    ))\n",
    "\n",
    "Bnormal_plasma_flat = Bnormal_plasma.flatten()\n",
    "\n"
   ]
  },
  {
   "cell_type": "code",
   "execution_count": 7,
   "id": "0909b071",
   "metadata": {},
   "outputs": [
    {
     "data": {
      "text/plain": [
       "dtype('float32')"
      ]
     },
     "execution_count": 7,
     "metadata": {},
     "output_type": "execute_result"
    }
   ],
   "source": [
    "jnp.linspace(0, 1, n_phi_plasma, endpoint=False).dtype"
   ]
  },
  {
   "cell_type": "code",
   "execution_count": 8,
   "id": "51e6c5c0",
   "metadata": {},
   "outputs": [
    {
     "data": {
      "text/plain": [
       "dtype('float32')"
      ]
     },
     "execution_count": 8,
     "metadata": {},
     "output_type": "execute_result"
    }
   ],
   "source": [
    "quadpoints_phi_plasma.dtype"
   ]
  },
  {
   "cell_type": "code",
   "execution_count": 9,
   "id": "4c87178c",
   "metadata": {},
   "outputs": [],
   "source": [
    "''' --- Calculating aspect ratio --- '''\n",
    "plasma_aspect = plasma_surface.aspect_ratio()\n",
    "total_coil_num_temp = coil_per_aspect_ratio * plasma_aspect\n",
    "coils_per_half_field_period = round(total_coil_num_temp/2/plasma_surface.nfp)\n",
    "total_coil_num = coils_per_half_field_period*2*plasma_surface.nfp\n",
    "\n",
    "\n",
    "\n",
    "''' --- Calculating constraint values --- '''\n",
    "# Set your min coil coil distance constraint here\n",
    "coil_coil_distance = (0.5 * plasma_surface.minor_radius()).astype(jnp.float32)\n",
    "kappa_threshold = (1/(0.2 * plasma_surface.minor_radius())).astype(jnp.float32)\n",
    "coil_plasma_distance = (plasma_surface.minor_radius() * 2).astype(jnp.float32)\n",
    "\n"
   ]
  },
  {
   "cell_type": "code",
   "execution_count": 10,
   "id": "7a2a1ad5",
   "metadata": {},
   "outputs": [],
   "source": [
    "''' Settings '''\n",
    "current_per_coil = net_poloidal_current_amperes/total_coil_num\n",
    "max_K2 = (current_per_coil/coil_coil_distance)**2\n",
    "max_KK = max_K2 * kappa_threshold"
   ]
  },
  {
   "cell_type": "markdown",
   "id": "298f24aa",
   "metadata": {},
   "source": [
    "# The actual proxy for that plasma surface\n",
    "Given coil-coil, coil-plasma spacing and maximum curvature requirements"
   ]
  },
  {
   "cell_type": "code",
   "execution_count": 11,
   "id": "d4dc33c6",
   "metadata": {},
   "outputs": [],
   "source": [
    "quadpoints_phi_winding = jnp.linspace(0, 1, n_phi_winding*nfp, endpoint=False)\n",
    "quadpoints_theta_winding = jnp.linspace(0, 1, n_theta_winding, endpoint=False)\n",
    "quadpoints_phi_eval = jnp.linspace(0, 1/nfp, n_phi_eval, endpoint=False)\n",
    "quadpoints_theta_eval = jnp.linspace(0, 1, n_theta_eval, endpoint=False)\n",
    "mpol_plasma = plasma_surface.mpol\n",
    "ntor_plasma = plasma_surface.ntor"
   ]
  },
  {
   "cell_type": "code",
   "execution_count": 12,
   "id": "a92b2d57",
   "metadata": {},
   "outputs": [],
   "source": [
    "# This is necessary to calculate gammadashes.\n",
    "\n",
    "# @partial(jit, static_argnames=[\n",
    "#     'nfp', \n",
    "#     'stellsym', \n",
    "#     'mpol_plasma',\n",
    "#     'ntor_plasma',\n",
    "#     'mpol_winding',\n",
    "#     'ntor_winding',\n",
    "# ])\n",
    "def plasma_dofs_to_winding_dofs(\n",
    "    # Dofs\n",
    "    plasma_dofs,\n",
    "    # Equilibrium and related parameters\n",
    "    # Coil parameters\n",
    "    coil_plasma_distance,\n",
    "    # Numerical parameters\n",
    "    nfp, \n",
    "    stellsym, \n",
    "    mpol_plasma,\n",
    "    ntor_plasma,\n",
    "    quadpoints_phi_plasma,\n",
    "    quadpoints_theta_plasma,\n",
    "    mpol_winding=10, \n",
    "    ntor_winding=10,\n",
    "):\n",
    "\n",
    "    theta_mesh_plasma, phi_mesh_plasma = jnp.meshgrid(quadpoints_theta_plasma, quadpoints_phi_plasma)\n",
    "\n",
    "    ''' Plasma surface calculations'''\n",
    "    # Quadrature points\n",
    "    print('theta_mesh_plasma, phi_mesh_plasma', theta_mesh_plasma.dtype, phi_mesh_plasma.dtype)\n",
    "    gamma_plasma = dof_to_gamma(\n",
    "        dofs=plasma_dofs,\n",
    "        phi_grid=phi_mesh_plasma, \n",
    "        theta_grid=theta_mesh_plasma, \n",
    "        nfp=nfp, \n",
    "        stellsym=stellsym, \n",
    "        mpol=mpol_plasma, ntor=ntor_plasma)\n",
    "    ''' Generating winding surface '''\n",
    "\n",
    "    winding_dofs = gen_winding_surface_atan(\n",
    "        gamma_plasma=gamma_plasma, \n",
    "        d_expand=coil_plasma_distance, \n",
    "        nfp=nfp, stellsym=stellsym,\n",
    "        unitnormal=None,\n",
    "        mpol=mpol_winding, ntor=ntor_winding,\n",
    "        tol_expand=0.9,\n",
    "        lam_tikhnov=0.9,\n",
    "    )\n",
    "    return(winding_dofs, gamma_plasma)"
   ]
  },
  {
   "cell_type": "code",
   "execution_count": 13,
   "id": "141fd24d",
   "metadata": {},
   "outputs": [],
   "source": [
    "\n",
    "@partial(jit, static_argnames=[\n",
    "    'nfp', \n",
    "    'stellsym', \n",
    "    'mpol_plasma',\n",
    "    'ntor_plasma',\n",
    "    'mpol_winding',\n",
    "    'ntor_winding',\n",
    "    'mpol_cp', \n",
    "    'ntor_cp', \n",
    "    'init_mode',\n",
    "    'tol_outer',\n",
    "    'tol_inner',\n",
    "    'max_iter_inner',\n",
    "    'max_iter_outer',\n",
    "    'n_phi_eval_default',\n",
    "    'n_theta_eval_default',\n",
    "    'solve'\n",
    "])\n",
    "def quadcoil_curvature_study(\n",
    "    # Dofs\n",
    "    plasma_dofs,\n",
    "\n",
    "    # Equilibrium and related parameters\n",
    "    Bnormal_plasma,\n",
    "    net_poloidal_current_amperes, # G\n",
    "    net_toroidal_current_amperes, # I\n",
    "\n",
    "    # Coil parameters\n",
    "    coil_plasma_distance,\n",
    "    max_K2,\n",
    "    max_KK,\n",
    "\n",
    "    # Numerical parameters\n",
    "    nfp, \n",
    "    stellsym, \n",
    "    mpol_plasma,\n",
    "    ntor_plasma,\n",
    "    quadpoints_phi_plasma,\n",
    "    quadpoints_theta_plasma,\n",
    "    mpol_winding=10,\n",
    "    ntor_winding=10,\n",
    "    quadpoints_phi_winding=None,\n",
    "    quadpoints_theta_winding=None,\n",
    "    mpol_cp=4, \n",
    "    ntor_cp=4, \n",
    "    quadpoints_phi_eval=None,\n",
    "    quadpoints_theta_eval=None,\n",
    "    init_mode='zero',\n",
    "    tol_outer=1e-3, # was 1e-5\n",
    "    tol_inner=1e-3,\n",
    "    max_iter_inner=1500,\n",
    "    max_iter_outer=25,\n",
    "    n_phi_eval_default=32,\n",
    "    n_theta_eval_default=32,\n",
    "    solve=True\n",
    "):\n",
    "    # Default quadrature point number\n",
    "    if quadpoints_phi_winding is None:\n",
    "        quadpoints_phi_winding = jnp.linspace(0, 1, n_phi_eval_default*nfp, endpoint=False)\n",
    "        quadpoints_theta_winding = jnp.linspace(0, 1, n_theta_eval_default, endpoint=False)\n",
    "    if quadpoints_phi_eval is None:\n",
    "        quadpoints_phi_eval = jnp.linspace(0, 1/nfp, n_phi_eval_default, endpoint=False)\n",
    "        quadpoints_theta_eval = jnp.linspace(0, 1, n_theta_eval_default, endpoint=False)\n",
    "    \n",
    "    \n",
    "    ndof_cp = 2 * mpol_cp * ntor_cp + mpol_cp + ntor_cp\n",
    "    if not stellsym:\n",
    "        ndof_cp *= 2\n",
    "    # Angle coordinates in a mesh\n",
    "    theta_mesh_winding, phi_mesh_winding = jnp.meshgrid(quadpoints_theta_winding, quadpoints_phi_winding)\n",
    "    theta_mesh_plasma, phi_mesh_plasma = jnp.meshgrid(quadpoints_theta_plasma, quadpoints_phi_plasma)\n",
    "    theta_mesh_eval, phi_mesh_eval = jnp.meshgrid(quadpoints_theta_eval, quadpoints_phi_eval)\n",
    "\n",
    "    # Flattening constant normal field\n",
    "    Bnormal_plasma_flat = Bnormal_plasma.flatten()\n",
    "\n",
    "\n",
    "    ''' Plasma surface calculations'''\n",
    "    gammadash1_plasma = dof_to_gamma(\n",
    "        dofs=plasma_dofs,\n",
    "        phi_grid=phi_mesh_plasma, \n",
    "        theta_grid=theta_mesh_plasma, \n",
    "        nfp=nfp, \n",
    "        stellsym=stellsym, \n",
    "        dash1_order=1,\n",
    "        mpol=mpol_plasma, ntor=ntor_plasma)\n",
    "\n",
    "    gammadash2_plasma = dof_to_gamma(\n",
    "        dofs=plasma_dofs,\n",
    "        phi_grid=phi_mesh_plasma, \n",
    "        theta_grid=theta_mesh_plasma, \n",
    "        nfp=nfp, \n",
    "        stellsym=stellsym, \n",
    "        dash2_order=1,\n",
    "        mpol=mpol_plasma, ntor=ntor_plasma)\n",
    "    normal_plasma = jnp.cross(gammadash1_plasma, gammadash2_plasma, axis=-1)\n",
    "\n",
    "\n",
    "    ''' Generating winding surface '''\n",
    "    winding_dofs, gamma_plasma = plasma_dofs_to_winding_dofs(\n",
    "        # Dofs\n",
    "        plasma_dofs=plasma_dofs,\n",
    "        # Equilibrium and related parameters\n",
    "        # Coil parameters\n",
    "        coil_plasma_distance=coil_plasma_distance,\n",
    "        # Numerical parameters\n",
    "        nfp=nfp, \n",
    "        stellsym=stellsym, \n",
    "        mpol_plasma=mpol_plasma,\n",
    "        ntor_plasma=ntor_plasma,\n",
    "        quadpoints_phi_plasma=quadpoints_phi_plasma,\n",
    "        quadpoints_theta_plasma=quadpoints_theta_plasma,\n",
    "        mpol_winding=mpol_winding, \n",
    "        ntor_winding=ntor_winding,\n",
    "    )\n",
    "\n",
    "\n",
    "    ''' Winding surface calculations '''\n",
    "    # Winding operators\n",
    "    # Operators\n",
    "    gamma_winding = dof_to_gamma(\n",
    "        dofs=winding_dofs,\n",
    "        phi_grid=phi_mesh_winding, \n",
    "        theta_grid=theta_mesh_winding, \n",
    "        nfp=nfp, \n",
    "        stellsym=stellsym, \n",
    "        mpol=mpol_winding, \n",
    "        ntor=ntor_winding\n",
    "    )\n",
    "    gammadash1_winding = dof_to_gamma(\n",
    "        dofs=winding_dofs,\n",
    "        phi_grid=phi_mesh_winding, \n",
    "        theta_grid=theta_mesh_winding, \n",
    "        nfp=nfp, \n",
    "        stellsym=stellsym, \n",
    "        dash1_order=1,\n",
    "        mpol=mpol_winding, \n",
    "        ntor=ntor_winding\n",
    "    )\n",
    "    gammadash2_winding = dof_to_gamma(\n",
    "        dofs=winding_dofs,\n",
    "        phi_grid=phi_mesh_winding, \n",
    "        theta_grid=theta_mesh_winding, \n",
    "        nfp=nfp, \n",
    "        stellsym=stellsym, \n",
    "        dash2_order=1,\n",
    "        mpol=mpol_winding, \n",
    "        ntor=ntor_winding\n",
    "    )\n",
    "    gamma_eval = dof_to_gamma(\n",
    "        dofs=winding_dofs,\n",
    "        phi_grid=phi_mesh_eval, \n",
    "        theta_grid=theta_mesh_eval, \n",
    "        nfp=nfp, \n",
    "        stellsym=stellsym, \n",
    "        mpol=mpol_winding, \n",
    "        ntor=ntor_winding\n",
    "    )\n",
    "    gammadash1_eval = dof_to_gamma(\n",
    "        dofs=winding_dofs,\n",
    "        phi_grid=phi_mesh_eval, \n",
    "        theta_grid=theta_mesh_eval, \n",
    "        nfp=nfp, \n",
    "        stellsym=stellsym, \n",
    "        dash1_order=1,\n",
    "        mpol=mpol_winding, \n",
    "        ntor=ntor_winding\n",
    "    )\n",
    "    gammadash2_eval = dof_to_gamma(\n",
    "        dofs=winding_dofs,\n",
    "        phi_grid=phi_mesh_eval, \n",
    "        theta_grid=theta_mesh_eval, \n",
    "        nfp=nfp, \n",
    "        stellsym=stellsym, \n",
    "        dash2_order=1,\n",
    "        mpol=mpol_winding, \n",
    "        ntor=ntor_winding\n",
    "    )\n",
    "    gammadash1dash1_eval = dof_to_gamma(\n",
    "        dofs=winding_dofs,\n",
    "        phi_grid=phi_mesh_eval, \n",
    "        theta_grid=theta_mesh_eval, \n",
    "        nfp=nfp, \n",
    "        stellsym=stellsym, \n",
    "        dash1_order=2,\n",
    "        mpol=mpol_winding, \n",
    "        ntor=ntor_winding\n",
    "    )\n",
    "    gammadash1dash2_eval = dof_to_gamma(\n",
    "        dofs=winding_dofs,\n",
    "        phi_grid=phi_mesh_eval, \n",
    "        theta_grid=theta_mesh_eval, \n",
    "        nfp=nfp, \n",
    "        stellsym=stellsym, \n",
    "        dash1_order=1, dash2_order=1,\n",
    "        mpol=mpol_winding, \n",
    "        ntor=ntor_winding\n",
    "    )\n",
    "    gammadash2dash2_eval = dof_to_gamma(\n",
    "        dofs=winding_dofs,\n",
    "        phi_grid=phi_mesh_eval, \n",
    "        theta_grid=theta_mesh_eval, \n",
    "        nfp=nfp, \n",
    "        stellsym=stellsym, \n",
    "        dash2_order=2,\n",
    "        mpol=mpol_winding, \n",
    "        ntor=ntor_winding\n",
    "    )\n",
    "    # Evaluation quadrature points\n",
    "    normal_eval = jnp.cross(gammadash1_eval, gammadash2_eval, axis=-1)\n",
    "    # Winding quadrature points (for calculating f_B)\n",
    "    normal_winding = jnp.cross(gammadash1_winding, gammadash2_winding, axis=-1)\n",
    "\n",
    "\n",
    "    ''' Calculating the NESCOIL (field error) operator '''\n",
    "    m_cp, n_cp = cp_make_mn(mpol_cp, ntor_cp, stellsym)\n",
    "\n",
    "    if stellsym:\n",
    "        ndofs_half = ndof_cp\n",
    "    else:\n",
    "        ndofs_half = ndof_cp // 2\n",
    "    dzeta_plasma = (quadpoints_phi_plasma[1] - quadpoints_phi_plasma[0])\n",
    "    dtheta_plasma = (quadpoints_theta_plasma[1] - quadpoints_theta_plasma[0])\n",
    "    dzeta_coil = (quadpoints_phi_winding[1] - quadpoints_phi_winding[0])\n",
    "    dtheta_coil = (quadpoints_theta_winding[1] - quadpoints_theta_winding[0])\n",
    "\n",
    "    normal_plasma_flat = normal_plasma.reshape(-1, 3)\n",
    "    normal_winding_flat = normal_winding.reshape(-1, 3)\n",
    "    points_plasma_flat = gamma_plasma.reshape(-1, 3)\n",
    "    points_coil_flat = gamma_winding.reshape(-1, 3)\n",
    "    gammadash1_winding_flat = gammadash1_winding.reshape(-1, 3)\n",
    "    gammadash2_winding_flat = gammadash2_winding.reshape(-1, 3)\n",
    "\n",
    "    gj_unscaled, _ = winding_surface_field_Bn(\n",
    "        points_plasma_flat, # contig(points_plasma), \n",
    "        points_coil_flat, # contig(points_coil), \n",
    "        normal_plasma_flat, # contig(normal_plasma), \n",
    "        normal_winding_flat, # contig(normal), \n",
    "        stellsym, # self.winding_surface.stellsym, \n",
    "        jnp.ravel(phi_mesh_winding), # contig(zeta_coil), \n",
    "        jnp.ravel(theta_mesh_winding), # contig(theta_coil), \n",
    "        ndof_cp, # dummy, but used to keep the function signature the same\n",
    "        m_cp[:ndofs_half], # contig(self.current_potential.m[:ndofs_half]), \n",
    "        n_cp[:ndofs_half], # contig(self.current_potential.n[:ndofs_half]), \n",
    "        nfp# self.winding_surface.nfp\n",
    "    )\n",
    "    gj = gj_unscaled * jnp.sqrt(dzeta_plasma * dtheta_plasma * dzeta_coil ** 2 * dtheta_coil ** 2)\n",
    "\n",
    "    normN_plasma = jnp.linalg.norm(normal_plasma, axis=-1)\n",
    "    B_GI = winding_surface_field_Bn_GI(\n",
    "        points_plasma_flat, # points_plasma, \n",
    "        points_coil_flat, # points_coil, \n",
    "        normal_plasma_flat, # normal_plasma,\n",
    "        jnp.ravel(phi_mesh_winding), # zeta_coil, \n",
    "        jnp.ravel(theta_mesh_winding), # theta_coil, \n",
    "        net_poloidal_current_amperes, # G\n",
    "        net_toroidal_current_amperes, # I\n",
    "        gammadash1_winding_flat, # gammadash1, \n",
    "        gammadash2_winding_flat, # gammadash2\n",
    "    ) * dzeta_coil * dtheta_coil\n",
    "\n",
    "    normN_plasma = jnp.linalg.norm(normal_plasma_flat, axis=-1)\n",
    "    b_e = - jnp.sqrt(normN_plasma * dzeta_plasma * dtheta_plasma) * (B_GI + Bnormal_plasma_flat)\n",
    "\n",
    "\n",
    "    ''' Calculating operators '''\n",
    "    sign_windowpane = -jnp.sign(net_poloidal_current_amperes)\n",
    "    A_f_B, b_f_B, c_f_B, B_normal, current_scale = f_B_and_current_scale(\n",
    "        gj=gj,\n",
    "        b_e=b_e,\n",
    "        plasma_normal=normal_plasma,\n",
    "        nfp=nfp\n",
    "    )\n",
    "    A_KK_cyl, b_KK_cyl, c_KK_cyl = grid_curvature_cylindrical(\n",
    "        gamma=gamma_eval,\n",
    "        normal=normal_eval,\n",
    "        gammadash1=gammadash1_eval,\n",
    "        gammadash2=gammadash2_eval,\n",
    "        gammadash1dash1=gammadash1dash1_eval,\n",
    "        gammadash1dash2=gammadash1dash2_eval,\n",
    "        gammadash2dash2=gammadash2dash2_eval,\n",
    "        net_poloidal_current_amperes=net_poloidal_current_amperes,\n",
    "        net_toroidal_current_amperes=net_toroidal_current_amperes,\n",
    "        quadpoints_phi=quadpoints_phi_eval,\n",
    "        quadpoints_theta=quadpoints_theta_eval,\n",
    "        nfp=nfp, \n",
    "        cp_m=m_cp, \n",
    "        cp_n=n_cp,\n",
    "        stellsym=stellsym,\n",
    "    )\n",
    "    A_K2, b_K2, c_K2 = K2(\n",
    "        normal=normal_eval,\n",
    "        gammadash1=gammadash1_eval,\n",
    "        gammadash2=gammadash2_eval,\n",
    "        net_poloidal_current_amperes=net_poloidal_current_amperes,\n",
    "        net_toroidal_current_amperes=net_toroidal_current_amperes,\n",
    "        quadpoints_phi=quadpoints_phi_eval,\n",
    "        quadpoints_theta=quadpoints_theta_eval,\n",
    "        nfp=nfp, \n",
    "        cp_m=m_cp, \n",
    "        cp_n=n_cp,\n",
    "        stellsym=stellsym,\n",
    "    )\n",
    "    A_K_theta, b_K_theta, c_K_theta = K_theta(\n",
    "            net_poloidal_current_amperes,\n",
    "            quadpoints_phi_eval,\n",
    "            quadpoints_theta_eval,\n",
    "            nfp, m_cp, n_cp,\n",
    "            stellsym,\n",
    "    )\n",
    "\n",
    "\n",
    "    ''' Claculating initial guess '''\n",
    "    if init_mode=='zero':\n",
    "        phi_scaled_init = jnp.zeros(ndof_cp, dtype=jnp.float32)\n",
    "    elif init_mode=='nescoil':\n",
    "        phi_nescoil, _ = solve_quad_unconstrained(A_f_B, b_f_B, c_f_B)\n",
    "        phi_scaled_init = phi_nescoil*current_scale\n",
    "\n",
    "\n",
    "    ''' Scaling objectives '''\n",
    "    scale_f_B = avg_order_of_magnitude(c_f_B)\n",
    "    scale_KK_cyl = avg_order_of_magnitude(c_KK_cyl)\n",
    "    scale_K2 = avg_order_of_magnitude(c_K2)\n",
    "    scale_K_theta = avg_order_of_magnitude(c_K_theta)\n",
    "\n",
    "\n",
    "    ''' Flattening operators'''\n",
    "    # Flatten all operators and taking stellarator symmetry into account\n",
    "    A_K_theta_obj = A_K_theta.reshape((-1, ndof_cp, ndof_cp))\n",
    "    b_K_theta_obj = b_K_theta.reshape((-1, ndof_cp))\n",
    "    c_K_theta_obj = c_K_theta.flatten()\n",
    "    A_K2_obj = A_K2.reshape((-1, ndof_cp, ndof_cp))\n",
    "    b_K2_obj = b_K2.reshape((-1, ndof_cp))\n",
    "    c_K2_obj = c_K2.flatten()\n",
    "    A_KK_cyl_obj = A_KK_cyl.reshape((-1, 3, ndof_cp, ndof_cp))\n",
    "    b_KK_cyl_obj = b_KK_cyl.reshape((-1, 3, ndof_cp))\n",
    "    c_KK_cyl_obj = c_KK_cyl.reshape((-1, 3))\n",
    "    if stellsym:\n",
    "        print(A_KK_cyl.shape[0] * A_KK_cyl.shape[1])\n",
    "        # Taking just half of the grid points is incorrect, \n",
    "        # because our grid DOES NOT INCLUDE ENDPOINTS!\n",
    "        # This formula isn't exactly the number of unique \n",
    "        # gridpoints, but it's an over-estimate of it, \n",
    "        # ensuring that no info is lost.\n",
    "        loop_size_K_l2 = (A_KK_cyl.shape[0] + 1) * (A_KK_cyl.shape[1] + 1) // 2\n",
    "    else:\n",
    "        loop_size_K_l2 = A_KK_cyl.shape[0] * A_KK_cyl.shape[1]\n",
    "    A_K2_obj = A_K2_obj[:loop_size_K_l2]\n",
    "    b_K2_obj = b_K2_obj[:loop_size_K_l2]\n",
    "    c_K2_obj = c_K2_obj[:loop_size_K_l2]\n",
    "    A_KK_cyl_obj = A_KK_cyl_obj[:loop_size_K_l2].reshape((-1, ndof_cp, ndof_cp))\n",
    "    b_KK_cyl_obj = b_KK_cyl_obj[:loop_size_K_l2].reshape((-1, ndof_cp))\n",
    "    c_KK_cyl_obj = c_KK_cyl_obj[:loop_size_K_l2].reshape((-1))\n",
    "    A_K_theta_obj = A_K_theta_obj[:loop_size_K_l2]\n",
    "    b_K_theta_obj = b_K_theta_obj[:loop_size_K_l2]\n",
    "    c_K_theta_obj = c_K_theta_obj[:loop_size_K_l2]\n",
    "\n",
    "\n",
    "    ''' Combining all constraints into 3 big arrays '''\n",
    "    A_total = jnp.concatenate([\n",
    "        A_K2_obj/scale_K2, \n",
    "        -A_K2_obj/scale_K2, \n",
    "        A_KK_cyl_obj/scale_KK_cyl, \n",
    "        -A_KK_cyl_obj/scale_KK_cyl, \n",
    "        sign_windowpane * A_K_theta_obj/scale_K_theta\n",
    "    ], axis=0)\n",
    "\n",
    "    b_total = jnp.concatenate([\n",
    "        b_K2_obj/scale_K2, \n",
    "        -b_K2_obj/scale_K2, \n",
    "        b_KK_cyl_obj/scale_KK_cyl, \n",
    "        -b_KK_cyl_obj/scale_KK_cyl, \n",
    "        sign_windowpane * b_K_theta_obj/scale_K_theta\n",
    "    ], axis=0)\n",
    "\n",
    "    c_total = jnp.concatenate([\n",
    "        c_K2_obj/scale_K2 - max_K2/scale_K2, \n",
    "        -c_K2_obj/scale_K2 - max_K2/scale_K2, \n",
    "        c_KK_cyl_obj/scale_KK_cyl - max_KK/scale_KK_cyl, \n",
    "        -c_KK_cyl_obj/scale_KK_cyl - max_KK/scale_KK_cyl, \n",
    "        sign_windowpane * c_K_theta_obj/scale_K_theta\n",
    "    ], axis=0)\n",
    "\n",
    "    ndof_cp = 2 * mpol_cp * ntor_cp + mpol_cp + ntor_cp\n",
    "    if not stellsym:\n",
    "        ndof_cp *= 2\n",
    "\n",
    "\n",
    "    ''' Solving QUADCOIL '''\n",
    "    res_quadcoil = solve_quad_constrained(\n",
    "        x_init=phi_scaled_init,\n",
    "        c_init=100,\n",
    "        A_f=A_f_B/scale_f_B, \n",
    "        b_f=b_f_B/scale_f_B, \n",
    "        c_f=c_f_B/scale_f_B,\n",
    "        mu_init=jnp.zeros_like(c_total),\n",
    "        A_ineq=A_total, \n",
    "        b_ineq=b_total, \n",
    "        c_ineq=c_total,\n",
    "        current_scale=current_scale,\n",
    "        tol_outer=tol_outer, # was 1e-5\n",
    "        tol_inner=tol_inner,\n",
    "        max_iter_inner=max_iter_inner,\n",
    "        max_iter_outer=max_iter_outer,\n",
    "    )\n",
    "    print('A_f_B', A_f_B)\n",
    "    print('b_f_B', b_f_B)\n",
    "    print('c_f_B', c_f_B)\n",
    "    print('A_total', A_total)\n",
    "    print('b_total', b_total)\n",
    "    print('c_total', c_total)\n",
    "    if solve:\n",
    "        return(\n",
    "            eval_quad_scaled(res_quadcoil['x_k'], A_f_B, b_f_B, c_f_B, current_scale),\n",
    "            res_quadcoil['x_k']/current_scale, \n",
    "            winding_dofs, \n",
    "#             A_K_theta, b_K_theta, c_K_theta \n",
    "        )\n",
    "    else:\n",
    "        return(\n",
    "            phi_scaled_init,\n",
    "            A_f_B,\n",
    "            b_f_B,\n",
    "            c_f_B,\n",
    "            A_total,\n",
    "            b_total,\n",
    "            c_total,\n",
    "        )\n",
    "\n"
   ]
  },
  {
   "cell_type": "markdown",
   "id": "13129841",
   "metadata": {},
   "source": [
    "# Testing derivative\n",
    "\n",
    "## Testing if the surface fit is differentiable"
   ]
  },
  {
   "cell_type": "code",
   "execution_count": 14,
   "id": "c9689a35",
   "metadata": {},
   "outputs": [],
   "source": [
    "import jax.profiler"
   ]
  },
  {
   "cell_type": "code",
   "execution_count": 15,
   "id": "a3040696",
   "metadata": {},
   "outputs": [],
   "source": [
    "from jax import jacfwd, jacrev, jacobian\n",
    "# fwd is better for more outputs than inputs\n",
    "# rev is better for more inputs than outputs"
   ]
  },
  {
   "cell_type": "code",
   "execution_count": 16,
   "id": "5e9b3eb5",
   "metadata": {},
   "outputs": [
    {
     "data": {
      "text/plain": [
       "numpy.float32"
      ]
     },
     "execution_count": 16,
     "metadata": {},
     "output_type": "execute_result"
    }
   ],
   "source": [
    "type(coil_plasma_distance)"
   ]
  },
  {
   "cell_type": "code",
   "execution_count": 41,
   "id": "d685c8fe",
   "metadata": {},
   "outputs": [],
   "source": [
    "simple_call_fit = lambda x:plasma_dofs_to_winding_dofs(\n",
    "    # Dofs\n",
    "    plasma_dofs=x.astype(jnp.float32),\n",
    "    # Equilibrium and related parameters\n",
    "    # Coil parameters\n",
    "    coil_plasma_distance=coil_plasma_distance.astype(jnp.float32),\n",
    "    # Numerical parameters\n",
    "    nfp=nfp, \n",
    "    stellsym=stellsym, \n",
    "    mpol_plasma=mpol_plasma,\n",
    "    ntor_plasma=ntor_plasma,\n",
    "    quadpoints_phi_plasma=quadpoints_phi_plasma,\n",
    "    quadpoints_theta_plasma=quadpoints_theta_plasma,\n",
    "    mpol_winding=mpol_winding, \n",
    "    ntor_winding=ntor_winding,\n",
    ")[0]"
   ]
  },
  {
   "cell_type": "code",
   "execution_count": 42,
   "id": "a6e0c6e0",
   "metadata": {},
   "outputs": [],
   "source": [
    "d_study_fit = jacobian(simple_call_fit)"
   ]
  },
  {
   "cell_type": "code",
   "execution_count": 43,
   "id": "f632435c",
   "metadata": {},
   "outputs": [
    {
     "name": "stdout",
     "output_type": "stream",
     "text": [
      "theta_mesh_plasma, phi_mesh_plasma float32 float32\n"
     ]
    },
    {
     "data": {
      "text/plain": [
       "Array([[ 9.7768855e-01,  3.6710724e-02, -1.3425645e-01, ...,\n",
       "        -5.0014555e-02,  2.1542870e-02, -2.2347237e-01],\n",
       "       [-8.9140236e-04,  4.0154755e-01,  5.1758045e-01, ...,\n",
       "         2.7615670e-02,  2.5166130e-01,  2.6138499e-01],\n",
       "       [-1.7292991e-02, -8.9316517e-03,  2.6283965e-02, ...,\n",
       "        -1.2609893e-01,  3.6901504e-02,  9.4780169e-02],\n",
       "       ...,\n",
       "       [-1.3609957e-03,  3.4995787e-03,  5.3233020e-03, ...,\n",
       "        -3.9404923e-01, -4.5490840e-01,  2.2340554e-01],\n",
       "       [-8.6652552e-04,  1.5478635e-03, -2.1573605e-03, ...,\n",
       "        -8.8835895e-02, -2.3170313e-01, -2.7673787e-01],\n",
       "       [ 1.2455648e-03, -4.3260371e-03,  2.3626450e-02, ...,\n",
       "        -3.3649717e-02,  1.2472813e-01, -2.2291847e-01]], dtype=float32)"
      ]
     },
     "execution_count": 43,
     "metadata": {},
     "output_type": "execute_result"
    }
   ],
   "source": [
    "d_study_fit(plasma_dofs)"
   ]
  },
  {
   "cell_type": "code",
   "execution_count": 20,
   "id": "df413440",
   "metadata": {},
   "outputs": [
    {
     "data": {
      "text/plain": [
       "dtype('float32')"
      ]
     },
     "execution_count": 20,
     "metadata": {},
     "output_type": "execute_result"
    }
   ],
   "source": [
    "Bnormal_plasma.dtype"
   ]
  },
  {
   "cell_type": "code",
   "execution_count": 46,
   "id": "bd6c9742",
   "metadata": {},
   "outputs": [],
   "source": [
    "# Diff of operators are fast. Diff of solver is slow.\n",
    "simple_call = jit(lambda x: quadcoil_curvature_study(\n",
    "    # Dofs\n",
    "    plasma_dofs=x.astype(jnp.float32),\n",
    "\n",
    "    # Equilibrium and related parameters\n",
    "    Bnormal_plasma=Bnormal_plasma,\n",
    "    net_poloidal_current_amperes=net_poloidal_current_amperes, # G\n",
    "    net_toroidal_current_amperes=net_toroidal_current_amperes, # I\n",
    "\n",
    "    # Coil parameters\n",
    "    coil_plasma_distance=coil_plasma_distance,\n",
    "    max_K2=max_K2,\n",
    "    max_KK=max_KK,\n",
    "    \n",
    "    # Numerical parameters\n",
    "    nfp=nfp, \n",
    "    stellsym=stellsym, \n",
    "    mpol_plasma=mpol_plasma,\n",
    "    ntor_plasma=ntor_plasma,\n",
    "    quadpoints_phi_plasma=quadpoints_phi_plasma,\n",
    "    quadpoints_theta_plasma=quadpoints_theta_plasma,\n",
    "    tol_outer=1e-4,\n",
    "    tol_inner=1e-4,\n",
    "    mpol_winding=7,\n",
    "    ntor_winding=7,\n",
    "    mpol_cp=4, \n",
    "    ntor_cp=4, \n",
    "    n_phi_eval_default=4, # Was 32\n",
    "    n_theta_eval_default=4, # Was 32\n",
    "    # solve=False \n",
    ")[0])\n",
    "\n",
    "# Diff of operators are fast. Diff of solver is slow.\n",
    "simple_call_ops = jit(lambda x: quadcoil_curvature_study(\n",
    "    # Dofs\n",
    "    plasma_dofs=x.astype(jnp.float32),\n",
    "\n",
    "    # Equilibrium and related parameters\n",
    "    Bnormal_plasma=Bnormal_plasma,\n",
    "    net_poloidal_current_amperes=net_poloidal_current_amperes, # G\n",
    "    net_toroidal_current_amperes=net_toroidal_current_amperes, # I\n",
    "\n",
    "    # Coil parameters\n",
    "    coil_plasma_distance=coil_plasma_distance,\n",
    "    max_K2=max_K2,\n",
    "    max_KK=max_KK,\n",
    "    \n",
    "    # Numerical parameters\n",
    "    nfp=nfp, \n",
    "    stellsym=stellsym, \n",
    "    mpol_plasma=mpol_plasma,\n",
    "    ntor_plasma=ntor_plasma,\n",
    "    quadpoints_phi_plasma=quadpoints_phi_plasma,\n",
    "    quadpoints_theta_plasma=quadpoints_theta_plasma,\n",
    "    tol_outer=1e-4,\n",
    "    tol_inner=1e-4,\n",
    "    mpol_winding=7,\n",
    "    ntor_winding=7,\n",
    "    mpol_cp=4, \n",
    "    ntor_cp=4, \n",
    "    n_phi_eval_default=4, # Was 32\n",
    "    n_theta_eval_default=4, # Was 32\n",
    "    solve=False \n",
    "))"
   ]
  },
  {
   "cell_type": "code",
   "execution_count": null,
   "id": "090f0082",
   "metadata": {},
   "outputs": [
    {
     "ename": "KeyboardInterrupt",
     "evalue": "",
     "output_type": "error",
     "traceback": [
      "\u001b[0;31m---------------------------------------------------------------------------\u001b[0m",
      "\u001b[0;31mKeyboardInterrupt\u001b[0m                         Traceback (most recent call last)",
      "Cell \u001b[0;32mIn[23], line 3\u001b[0m\n\u001b[1;32m      1\u001b[0m d_study \u001b[38;5;241m=\u001b[39m jacfwd(simple_call)\n\u001b[1;32m      2\u001b[0m d_study_val \u001b[38;5;241m=\u001b[39m d_study(plasma_dofs)\n\u001b[0;32m----> 3\u001b[0m jax\u001b[38;5;241m.\u001b[39mblock_until_ready(d_study_val)\n",
      "File \u001b[0;32m~/miniconda3/envs/stellarator/lib/python3.11/site-packages/jax/_src/api.py:2751\u001b[0m, in \u001b[0;36mblock_until_ready\u001b[0;34m(x)\u001b[0m\n\u001b[1;32m   2748\u001b[0m   \u001b[38;5;28;01mpass\u001b[39;00m\n\u001b[1;32m   2749\u001b[0m \u001b[38;5;28;01melif\u001b[39;00m \u001b[38;5;28mlen\u001b[39m(arrays) \u001b[38;5;241m==\u001b[39m \u001b[38;5;241m1\u001b[39m:\n\u001b[1;32m   2750\u001b[0m   \u001b[38;5;66;03m# Fast path for single array.\u001b[39;00m\n\u001b[0;32m-> 2751\u001b[0m   try_to_block(arrays[\u001b[38;5;241m0\u001b[39m])\n\u001b[1;32m   2752\u001b[0m \u001b[38;5;28;01melse\u001b[39;00m:\n\u001b[1;32m   2753\u001b[0m   \u001b[38;5;66;03m# Optimized for multiple arrays.\u001b[39;00m\n\u001b[1;32m   2754\u001b[0m   xc\u001b[38;5;241m.\u001b[39mbatched_block_until_ready(arrays)\n",
      "File \u001b[0;32m~/miniconda3/envs/stellarator/lib/python3.11/site-packages/jax/_src/api.py:2734\u001b[0m, in \u001b[0;36mblock_until_ready.<locals>.try_to_block\u001b[0;34m(x)\u001b[0m\n\u001b[1;32m   2732\u001b[0m \u001b[38;5;28;01mdef\u001b[39;00m \u001b[38;5;21mtry_to_block\u001b[39m(x):\n\u001b[1;32m   2733\u001b[0m   \u001b[38;5;28;01mtry\u001b[39;00m:\n\u001b[0;32m-> 2734\u001b[0m     \u001b[38;5;28;01mreturn\u001b[39;00m x\u001b[38;5;241m.\u001b[39mblock_until_ready()\n\u001b[1;32m   2735\u001b[0m   \u001b[38;5;28;01mexcept\u001b[39;00m \u001b[38;5;167;01mAttributeError\u001b[39;00m:\n\u001b[1;32m   2736\u001b[0m     \u001b[38;5;28;01mreturn\u001b[39;00m x\n",
      "\u001b[0;31mKeyboardInterrupt\u001b[0m: "
     ]
    }
   ],
   "source": [
    "# Result has some nans.\n",
    "d_study = jacfwd(simple_call)\n",
    "d_study_val = d_study(plasma_dofs)\n",
    "jax.block_until_ready(d_study_val)\n",
    "\n",
    "# Stop profiling"
   ]
  },
  {
   "cell_type": "code",
   "execution_count": 25,
   "id": "74d7c705",
   "metadata": {},
   "outputs": [
    {
     "name": "stdout",
     "output_type": "stream",
     "text": [
      "Done\n",
      "Done\n",
      "Done\n",
      "Done\n",
      "Done\n",
      "Done\n",
      "Done\n",
      "Done\n",
      "Done\n",
      "Done\n"
     ]
    }
   ],
   "source": [
    "# The first component of the gradient is nan. Is the function \n",
    "# differentiable at all?\n",
    "test_dof = jnp.linspace(plasma_dofs[0]*0.8, plasma_dofs[0]*1.2, 10)\n",
    "obj_list = []\n",
    "for x0 in test_dof:\n",
    "    xi = jnp.concatenate((jnp.array([x0]), plasma_dofs[1:]))\n",
    "    obj_list.append(simple_call(xi))\n",
    "    print('Done')"
   ]
  },
  {
   "cell_type": "code",
   "execution_count": 27,
   "id": "aae308b7",
   "metadata": {},
   "outputs": [
    {
     "data": {
      "text/plain": [
       "[Array(514.55945, dtype=float32),\n",
       " Array(nan, dtype=float32),\n",
       " Array(448.0105, dtype=float32),\n",
       " Array(393.54547, dtype=float32),\n",
       " Array(341.55127, dtype=float32),\n",
       " Array(301.64044, dtype=float32),\n",
       " Array(270.33435, dtype=float32),\n",
       " Array(244.17537, dtype=float32),\n",
       " Array(222.01581, dtype=float32),\n",
       " Array(203.2059, dtype=float32)]"
      ]
     },
     "execution_count": 27,
     "metadata": {},
     "output_type": "execute_result"
    }
   ],
   "source": [
    "obj_list"
   ]
  },
  {
   "cell_type": "code",
   "execution_count": 28,
   "id": "755c1d48",
   "metadata": {},
   "outputs": [
    {
     "data": {
      "text/plain": [
       "Text(0, 0.5, 'Optimal $f_B$ of the quadcoil problem')"
      ]
     },
     "execution_count": 28,
     "metadata": {},
     "output_type": "execute_result"
    },
    {
     "data": {
      "image/png": "[encoded data removed]",
      "text/plain": [
       "<Figure size 640x480 with 1 Axes>"
      ]
     },
     "metadata": {},
     "output_type": "display_data"
    }
   ],
   "source": [
    "# Some input values causes the optimum to be nan. Why?\n",
    "plt.plot(test_dof, obj_list, marker='x')\n",
    "plt.xlabel('plasma_dofs[0]')\n",
    "plt.ylabel('Optimal $f_B$ of the quadcoil problem')"
   ]
  },
  {
   "cell_type": "code",
   "execution_count": 37,
   "id": "58236813",
   "metadata": {},
   "outputs": [
    {
     "data": {
      "text/plain": [
       "Array(nan, dtype=float32)"
      ]
     },
     "execution_count": 37,
     "metadata": {},
     "output_type": "execute_result"
    }
   ],
   "source": [
    "nan_causing_dofs = jnp.concatenate((jnp.array([test_dof[1]]), plasma_dofs[1:]))\n",
    "simple_call(nan_causing_dofs)"
   ]
  },
  {
   "cell_type": "code",
   "execution_count": 45,
   "id": "b0f5f845",
   "metadata": {},
   "outputs": [
    {
     "data": {
      "image/png": "[encoded data removed]",
      "text/plain": [
       "<Figure size 640x480 with 1 Axes>"
      ]
     },
     "metadata": {},
     "output_type": "display_data"
    },
    {
     "name": "stdout",
     "output_type": "stream",
     "text": [
      "theta_mesh_plasma, phi_mesh_plasma float32 float32\n"
     ]
    },
    {
     "data": {
      "image/png": "[encoded data removed]",
      "text/plain": [
       "<Figure size 640x480 with 1 Axes>"
      ]
     },
     "metadata": {},
     "output_type": "display_data"
    },
    {
     "data": {
      "text/plain": [
       "<Axes3D: >"
      ]
     },
     "execution_count": 45,
     "metadata": {},
     "output_type": "execute_result"
    }
   ],
   "source": [
    "plasma_surface_nan = SurfaceRZFourier(\n",
    "    nfp=nfp, \n",
    "    stellsym=stellsym, \n",
    "    mpol=surf_dict['mpol'], \n",
    "    ntor=surf_dict['ntor'], \n",
    "    quadpoints_phi=quadpoints_phi_plasma, \n",
    "    quadpoints_theta=quadpoints_theta_plasma, \n",
    ")\n",
    "plasma_surface_nan.set_dofs(nan_causing_dofs)\n",
    "plasma_surface_nan.plot()\n",
    "winding_surface_nan = SurfaceRZFourier(\n",
    "    nfp=nfp, \n",
    "    stellsym=stellsym, \n",
    "    mpol=mpol_winding, \n",
    "    ntor=ntor_winding, \n",
    "    quadpoints_phi=quadpoints_phi_winding, \n",
    "    quadpoints_theta=quadpoints_theta_winding, \n",
    ")\n",
    "winding_surface_nan.set_dofs(simple_call_fit(nan_causing_dofs))\n",
    "winding_surface_nan.plot()"
   ]
  },
  {
   "cell_type": "code",
   "execution_count": 33,
   "id": "04701741",
   "metadata": {},
   "outputs": [
    {
     "name": "stdout",
     "output_type": "stream",
     "text": [
      "theta_mesh_plasma, phi_mesh_plasma float32 float32\n"
     ]
    },
    {
     "data": {
      "text/plain": [
       "[<matplotlib.lines.Line2D at 0x167d9dd10>]"
      ]
     },
     "execution_count": 33,
     "metadata": {},
     "output_type": "execute_result"
    },
    {
     "data": {
      "image/png": "[encoded data removed]",
      "text/plain": [
       "<Figure size 640x480 with 1 Axes>"
      ]
     },
     "metadata": {},
     "output_type": "display_data"
    }
   ],
   "source": [
    "plt.plot(simple_call_fit(nan_causing_dofs))"
   ]
  },
  {
   "cell_type": "code",
   "execution_count": 24,
   "id": "db0a6d9c",
   "metadata": {},
   "outputs": [],
   "source": [
    "from numpy.random import random"
   ]
  },
  {
   "cell_type": "code",
   "execution_count": 28,
   "id": "567a6783",
   "metadata": {},
   "outputs": [],
   "source": [
    "A_f = random((3, 3))\n",
    "b_f = random((3))\n",
    "c_f = jnp.array(random())\n",
    "A_ineq = random((2, 3, 3))\n",
    "b_ineq = random((2, 3))\n",
    "c_ineq = random((2))\n",
    "phi_test = jnp.zeros(3)"
   ]
  },
  {
   "cell_type": "code",
   "execution_count": 29,
   "id": "c0d7bb0c",
   "metadata": {},
   "outputs": [
    {
     "data": {
      "text/plain": [
       "Array([0.83798033, 0.29381442], dtype=float32)"
      ]
     },
     "execution_count": 29,
     "metadata": {},
     "output_type": "execute_result"
    }
   ],
   "source": [
    "eval_quad_scaled(phi_test, A_ineq, b_ineq, c_ineq, 1)"
   ]
  },
  {
   "cell_type": "code",
   "execution_count": 33,
   "id": "eca7752b",
   "metadata": {},
   "outputs": [],
   "source": [
    "def test_func(x):\n",
    "    solve_quad_constrained(\n",
    "        x_init=x,\n",
    "        c_init=1.,\n",
    "        A_f=A_f, \n",
    "        b_f=b_f, \n",
    "        c_f=c_f,\n",
    "        mu_init=jnp.zeros_like(c_ineq),\n",
    "        A_ineq=A_ineq, \n",
    "        b_ineq=b_ineq, \n",
    "        c_ineq=c_ineq,\n",
    "        current_scale=1.,\n",
    "        tol_outer=1e-4, # was 1e-5\n",
    "        tol_inner=1e-4,\n",
    "        max_iter_inner=100,\n",
    "        max_iter_outer=10,\n",
    "    )\n",
    "    return(eval_quad_scaled(x, A_f, b_f, c_f, 1))"
   ]
  },
  {
   "cell_type": "code",
   "execution_count": null,
   "id": "f71ee157",
   "metadata": {},
   "outputs": [
    {
     "data": {
      "text/plain": [
       "Array(0.4908165, dtype=float32)"
      ]
     },
     "execution_count": 34,
     "metadata": {},
     "output_type": "execute_result"
    }
   ],
   "source": [
    "test_func(phi_test)"
   ]
  },
  {
   "cell_type": "code",
   "execution_count": null,
   "id": "02579f14",
   "metadata": {},
   "outputs": [
    {
     "data": {
      "text/plain": [
       "Array([0.573208  , 0.3739865 , 0.10138585], dtype=float32)"
      ]
     },
     "execution_count": 36,
     "metadata": {},
     "output_type": "execute_result"
    }
   ],
   "source": [
    "\n",
    "d_test = jacfwd(test_func)\n",
    "d_test_val = d_test(phi_test)\n",
    "jax.block_until_ready(d_test_val)"
   ]
  },
  {
   "cell_type": "code",
   "execution_count": null,
   "id": "47593d26",
   "metadata": {},
   "outputs": [],
   "source": []
  }
 ],
 "metadata": {
  "kernelspec": {
   "display_name": "stellarator",
   "language": "python",
   "name": "stellarator"
  },
  "language_info": {
   "codemirror_mode": {
    "name": "ipython",
    "version": 3
   },
   "file_extension": ".py",
   "mimetype": "text/x-python",
   "name": "python",
   "nbconvert_exporter": "python",
   "pygments_lexer": "ipython3",
   "version": "3.11.7"
  }
 },
 "nbformat": 4,
 "nbformat_minor": 5
}
